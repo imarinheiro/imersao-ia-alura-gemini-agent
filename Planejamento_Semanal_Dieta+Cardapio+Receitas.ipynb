{
  "nbformat": 4,
  "nbformat_minor": 0,
  "metadata": {
    "colab": {
      "provenance": []
    },
    "kernelspec": {
      "name": "python3",
      "display_name": "Python 3"
    },
    "language_info": {
      "name": "python"
    }
  },
  "cells": [
    {
      "cell_type": "code",
      "source": [
        "####################################################################\n",
        "# --- Setup: instala dependencias do Google (GenAI e Agentes)  --- #\n",
        "####################################################################\n",
        "!pip install -q google-genai\n",
        "!pip install -q google-adk"
      ],
      "metadata": {
        "id": "a1eRPalxEnj7"
      },
      "execution_count": null,
      "outputs": []
    },
    {
      "cell_type": "code",
      "execution_count": 17,
      "metadata": {
        "id": "aePV2bdfDeoW"
      },
      "outputs": [],
      "source": [
        "#########################################################################################################\n",
        "# --- Setup: import de libraries e set de variaveis de ambiente necessarias para execucao do agente --- #\n",
        "#########################################################################################################5\n",
        "import os\n",
        "from google.adk.agents import Agent\n",
        "from google.adk.runners import Runner\n",
        "from google.adk.sessions import InMemorySessionService\n",
        "from google.adk.tools import google_search\n",
        "from google.genai import types\n",
        "from datetime import date\n",
        "import textwrap\n",
        "from IPython.display import display, Markdown\n",
        "import requests\n",
        "import warnings\n",
        "from google.colab import userdata\n",
        "\n",
        "# Set variavel de ambiente com a secret de api key do gemini\n",
        "os.environ[\"GOOGLE_API_KEY\"] = userdata.get('GOOGLE_API_KEY')\n",
        "\n",
        "warnings.filterwarnings(\"ignore\")"
      ]
    },
    {
      "cell_type": "code",
      "source": [
        "################################################################\n",
        "# --- Utils: Executa o agente e retona resultado em string --- #\n",
        "################################################################\n",
        "def call_agent(agent: Agent, message_text: str) -> str:\n",
        "    # Cria um serviço de sessão em memória\n",
        "    session_service = InMemorySessionService()\n",
        "    # Cria uma nova sessão (você pode personalizar os IDs conforme necessário)\n",
        "    session = session_service.create_session(app_name=agent.name, user_id=\"user1\", session_id=\"session1\")\n",
        "    # Cria um Runner para o agente\n",
        "    runner = Runner(agent=agent, app_name=agent.name, session_service=session_service)\n",
        "    # Cria o conteúdo da mensagem de entrada\n",
        "    content = types.Content(role=\"user\", parts=[types.Part(text=message_text)])\n",
        "\n",
        "    final_response = \"\"\n",
        "    # Itera assincronamente pelos eventos retornados durante a execução do agente\n",
        "    for event in runner.run(user_id=\"user1\", session_id=\"session1\", new_message=content):\n",
        "        if event.is_final_response():\n",
        "          for part in event.content.parts:\n",
        "            if part.text is not None:\n",
        "              final_response += part.text\n",
        "              final_response += \"\\n\"\n",
        "    return final_response"
      ],
      "metadata": {
        "id": "_xP4lWhsS5ko"
      },
      "execution_count": 27,
      "outputs": []
    },
    {
      "cell_type": "code",
      "source": [
        "##############################################\n",
        "# --- Utils: Função que retorna markdown --- #\n",
        "##############################################\n",
        "def to_markdown(text):\n",
        "  text = text.replace('•', '  *')\n",
        "  return Markdown(textwrap.indent(text, '> ', predicate=lambda _: True))"
      ],
      "metadata": {
        "id": "8dosiodaxfFR"
      },
      "execution_count": 28,
      "outputs": []
    },
    {
      "cell_type": "code",
      "source": [
        "##############################################\n",
        "# --- Agente 1: Especialista em Nutricao --- #\n",
        "##############################################\n",
        "def agente_planejador_nutricao(calorias_diarias: str, preferencias: str, refeicoes: str) -> str:\n",
        "    agente = Agent(\n",
        "        name=\"agente_nutricionista\",\n",
        "        model=\"gemini-2.0-flash\",\n",
        "        instruction=\"\"\"\n",
        "        Você é um especialista em nutrição e planejamento de refeições.\n",
        "        Com base nas seguintes informações fornecidas pelo usuário,\n",
        "        crie um cardápio detalhado para 7 dias,\n",
        "        levando em consideração a praticidade para preparar as refeições\n",
        "        diariamente ou em formato de marmitas para a semana inteira.\n",
        "        \"\"\",\n",
        "        description=\"Agente de criação de cardápio baseado numa quantidade total de calorias, preferências alimentares e total de refeições\",\n",
        "        tools=[google_search]\n",
        "    )\n",
        "\n",
        "    prompt = f\"\"\"\n",
        "    Informações do Usuário:\n",
        "    - Meta de calorias diárias: [{calorias_diarias}]\n",
        "    - Preferências alimentares: [{preferencias}]\n",
        "    - Refeições a serem planejadas: [{refeicoes}]\n",
        "\n",
        "    O cardápio deve:\n",
        "    - Apresentar sugestões específicas para cada refeição em cada dia da semana.\n",
        "    - As refeições podem se repetir de forma intercalada (exemplo: segunda, quarta e sexta as mesmas refeições), afim de facilitar o planejamento e execução das receitas.\n",
        "    - Garantir que o total de calorias diárias fique próximo de [{calorias_diarias}].\n",
        "    - Ser prático e fácil de seguir, com opções que podem ser preparadas rapidamente ou em grande quantidade para a semana.\n",
        "    - Os igredientes da dieta devem ser baratos para comprar (não devem ser igredientes refinados).\n",
        "    - Variar as opções ao longo da semana para garantir uma dieta equilibrada.\n",
        "    - Você deve incluir o peso e calorias de cada alimento no planejamento do cardápio.\n",
        "\n",
        "    Formato de saída desejado:\n",
        "\n",
        "    **Cardápio Semanal:**\n",
        "\n",
        "    **📆 Dia 1:**\n",
        "    - **[REFEIÇÃO 1]: **\n",
        "    - Total de calorias: [TOTAL CALORIAS];\n",
        "      - [ALIMENTO] ([PESO] peso) ([CALORIAS] calorias);\n",
        "      - [ALIMENTO] ([PESO] peso) ([CALORIAS] calorias)\n",
        "    - **[REFEIÇÃO 2]: **\n",
        "    - Total de calorias: [TOTAL CALORIAS]\n",
        "      - [ALIMENTO] ([PESO] peso) ([CALORIAS] calorias);\n",
        "      - [ALIMENTO] ([PESO] peso) ([CALORIAS] calorias)\n",
        "    - ...\n",
        "\n",
        "    **📆 Dia 2:**\n",
        "    - **[REFEIÇÃO 1]:**\n",
        "    - Total de calorias: [TOTAL CALORIAS];\n",
        "      - [ALIMENTO] ([PESO] peso) ([CALORIAS] calorias);\n",
        "      - [ALIMENTO] ([PESO] peso) ([CALORIAS] calorias)\n",
        "    - **[REFEIÇÃO 2]:**\n",
        "    - Total de calorias: [TOTAL CALORIAS];\n",
        "      - [ALIMENTO] ([PESO] peso) ([CALORIAS] calorias);\n",
        "      - [ALIMENTO] ([PESO] peso) ([CALORIAS] calorias)\n",
        "    - ...\n",
        "\n",
        "    ... e assim por diante para os 7 dias.\n",
        "\n",
        "    **Observações:** [Quaisquer observações adicionais sobre o cardápio, como dicas de preparo em lote.]\n",
        "    \"\"\"\n",
        "\n",
        "    resultado = call_agent(agente, prompt)\n",
        "    return resultado"
      ],
      "metadata": {
        "id": "o8bqIfi_DyH8"
      },
      "execution_count": 49,
      "outputs": []
    },
    {
      "cell_type": "code",
      "source": [
        "###########################################\n",
        "# --- Agente 2: Planejador de compras --- #\n",
        "###########################################\n",
        "def agente_planejador_compras(cardapio: str) -> str:\n",
        "    agente = Agent(\n",
        "        name=\"agente_planejador_compras\",\n",
        "        model=\"gemini-2.0-flash\",\n",
        "        instruction=\"\"\"\n",
        "        Você é um especialista em organização e planejamento de compras.\n",
        "        Com base no cardápio semanal, crie uma lista de compras detalhada\n",
        "        com as quantidades totais necessárias de cada item para preparar todas\n",
        "        as refeições ao longo da semana.\n",
        "        Agrupe os itens por categoria (frutas, legumes, proteínas, grãos, etc.)\n",
        "        para facilitar a organização.\n",
        "        \"\"\",\n",
        "        description=\"Agente planejador de compras da semana\",\n",
        "        tools=[google_search]\n",
        "    )\n",
        "\n",
        "    prompt = f\"\"\"\n",
        "    Crie uma lista organizada de compras por setores/categorias de alilmentos.\n",
        "    Cardápio Semanal:\n",
        "    [{cardapio}]\n",
        "\n",
        "    Formato de saída desejado:\n",
        "\n",
        "    **Lista de Compras Semanal:**\n",
        "\n",
        "    **🍓 Frutas:**\n",
        "    - [ITEM]: [QUANTIDADE]\n",
        "    - [ITEM]: [QUANTIDADE]\n",
        "    - ...\n",
        "\n",
        "    **🥦 Legumes:**\n",
        "    - [ITEM]: [QUANTIDADE]\n",
        "    - [ITEM]: [QUANTIDADE]\n",
        "    - ...\n",
        "\n",
        "    **🥩 Proteínas:**\n",
        "    - [ITEM]: [QUANTIDADE]\n",
        "    - [ITEM]: [QUANTIDADE]\n",
        "    - ...\n",
        "\n",
        "    ... e assim por diante para todas as categorias de alimentos.\n",
        "\n",
        "    **Observações:** [Quaisquer observações sobre a lista de compras, como sugestões de embalagens maiores para economia.]\n",
        "    \"\"\"\n",
        "\n",
        "    # Executa o agente\n",
        "    resultado = call_agent(agente, prompt)\n",
        "    return resultado"
      ],
      "metadata": {
        "id": "y3VO1uo5_ghO"
      },
      "execution_count": 46,
      "outputs": []
    },
    {
      "cell_type": "code",
      "source": [
        "################################\n",
        "# --- Agente 3: Cozinheiro --- #\n",
        "################################\n",
        "def agente_cozinheiro(cardapio: str) -> str:\n",
        "    agente = Agent(\n",
        "        name=\"agente_cozinheiro\",\n",
        "        model=\"gemini-2.0-flash\",\n",
        "        instruction=\"\"\"\n",
        "            Você é um cozinheiro super experiente, especialista em receitas práticas e saudáveis.\n",
        "            Você entende o quanto é difícil executar receitas complexas no\n",
        "            dia-a-dia, portanto você classifica receitas para pessoas comuns\n",
        "            fazerem em casa e ajuda elas a não saírem da sua dieta.\n",
        "            Você utiliza como apoio receitas encontradas nos blogs e conteúdos\n",
        "            da internet que você encontra utilizando o Google (google_search)\n",
        "            Para cada refeição sugerida no cardápio semanal abaixo,\n",
        "            apresente uma receita fácil e prática de preparar.\n",
        "            Inclua os ingredientes necessários e um breve passo a passo da preparação.\n",
        "            Se a receita foi encontrada na internet, inlcua o lik da receita original.\n",
        "            \"\"\",\n",
        "        description=\"Agente cozinheiro especialista em receitas práticas e saudáveis\",\n",
        "        tools=[google_search]\n",
        "    )\n",
        "    prompt = f\"\"\"\n",
        "    Cardápio Semanal:\n",
        "    [{cardapio}]\n",
        "\n",
        "    Formato de saída desejado:\n",
        "\n",
        "    **Receitas Semanais:**\n",
        "\n",
        "    **Dia 1:**\n",
        "\n",
        "    - **🍽️ [REFEIÇÃO 1]: [SUGESTÃO]**]\n",
        "        - Receita original: [LINK]\n",
        "        - **Ingredientes:**\n",
        "            - [ITEM]: [QUANTIDADE]\n",
        "            - [ITEM]: [QUANTIDADE]\n",
        "            - ...\n",
        "        - **Modo de Preparo:**\n",
        "            1. [PASSO 1]\n",
        "            2. [PASSO 2]\n",
        "            3. ...\n",
        "\n",
        "    - **🍽️ [REFEIÇÃO 2]: [SUGESTÃO]**\n",
        "        - Receita original: [LINK]\n",
        "        - **Ingredientes:**\n",
        "            - [ITEM]: [QUANTIDADE]\n",
        "            - [ITEM]: [QUANTIDADE]\n",
        "            - ...\n",
        "        - **Modo de Preparo:**\n",
        "            1. [PASSO 1]\n",
        "            2. [PASSO 2]\n",
        "            3. ...\n",
        "\n",
        "    ... e assim por diante para todas as refeições de todos os dias.\n",
        "\n",
        "    **Dicas:** [Quaisquer dicas adicionais sobre o preparo das receitas, como substituições de ingredientes.]\n",
        "    \"\"\"\n",
        "    # Executa o agente\n",
        "    resultado = call_agent(agente, prompt)\n",
        "    return resultado"
      ],
      "metadata": {
        "id": "uOqlg2TRLVh1"
      },
      "execution_count": 47,
      "outputs": []
    },
    {
      "cell_type": "code",
      "source": [
        " ######################################################\n",
        "# --- Main: execucao dos agentes sequencialmente --- #\n",
        "######################################################\n",
        "print(\"🚀 Iniciando o Sistema de Planejamento de Cardápio de Dieta com 3 Agentes 🚀\")\n",
        "\n",
        "# --- Obter informações do Usuário\n",
        "calorias_diarias = input(\"❓Qual a sua meta de calorias diárias? \")\n",
        "preferencias = input(\"❓Você tem alguma preferência alimentar (vegetariano, sem glúten,sem lactose, frango, batata etc.)? (Deixe em branco se não tiver) \")\n",
        "refeicoes = input(\"❓Quais refeições você gostaria de planejar? Separe por vírgula (padrão caso não deseje informar: café da manhã, almoço, jantar): \")\n",
        "refeicoes = \"café da manhã,almoço,jantar\".split(\",\") if not refeicoes else [refeicao.strip() for refeicao in refeicoes.split(\",\")]\n",
        "\n",
        "# Inserir lógica do sistema de agentes\n",
        "if not calorias_diarias or not refeicoes:\n",
        "    print(\"Você esqueceu de digitar as informações necessárias para criar o planejamento!\")\n",
        "    print(f\"\"\"\n",
        "    Você esqueceu de digitar as informações necessárias para criar o planejamento:\n",
        "    - Meta de calorias diárias: [{calorias_diarias}]\n",
        "    - Preferências alimentares: [{preferencias}]\n",
        "    - Refeições a serem planejadas: [{refeicoes}]\n",
        "    \"\"\")\n",
        "else:\n",
        "    print(f\"\"\"\n",
        "    Maravilha! Vamos então criar o planejamento das refeições:\n",
        "    - Meta de calorias diárias: [{calorias_diarias}]\n",
        "    - Preferências alimentares: [{preferencias}]\n",
        "    - Refeições a serem planejadas: [{refeicoes}]\n",
        "    \"\"\")\n",
        "    print(\"--------------------------------------------------------------\")\n",
        "\n",
        "    cardapio = agente_planejador_nutricao(calorias_diarias, preferencias, refeicoes)\n",
        "    print(\"\\n📝 Resultado do Agente 1 (Nutricionista)\\n\")\n",
        "    display(to_markdown(cardapio))\n",
        "    print(\"--------------------------------------------------------------\")\n",
        "\n",
        "    planejamento = agente_planejador_compras(cardapio)\n",
        "    print(\"\\n📝 Resultado do Agente 2 (Planejador de compras)\\n\")\n",
        "    display(to_markdown(planejamento))\n",
        "    print(\"--------------------------------------------------------------\")\n",
        "\n",
        "    receitas = agente_cozinheiro(cardapio)\n",
        "    print(\"\\n📝 Resultado do Agente 3 (Cozinheiro)\\n\")\n",
        "    display(to_markdown(receitas))\n",
        "    print(\"--------------------------------------------------------------\")"
      ],
      "metadata": {
        "colab": {
          "base_uri": "https://localhost:8080/",
          "height": 9279
        },
        "id": "6xzI6LKzxxnN",
        "outputId": "6caaa4e0-3c5d-4823-947f-46b2243db8bd"
      },
      "execution_count": 50,
      "outputs": [
        {
          "output_type": "stream",
          "name": "stdout",
          "text": [
            "🚀 Iniciando o Sistema de Planejamento de Cardápio de Dieta com 3 Agentes 🚀\n",
            "❓Qual a sua meta de calorias diárias? 1500\n",
            "❓Você tem alguma preferência alimentar (vegetariano, sem glúten,sem lactose, frango, batata etc.)? (Deixe em branco se não tiver) \n",
            "❓Quais refeições você gostaria de planejar? Separe por vírgula (padrão caso não deseje informar: café da manhã, almoço, jantar): \n",
            "\n",
            "   Maravilha! Vamos então criar o planejamento das refeições:\n",
            "   - Meta de calorias diárias: [1500]\n",
            "   - Preferências alimentares: []\n",
            "   - Refeições a serem planejadas: [['café da manhã', 'almoço', 'jantar']]\n",
            "   \n",
            "\n",
            "📝 Resultado do Agente 1 (Nutricionista)\n",
            "\n"
          ]
        },
        {
          "output_type": "display_data",
          "data": {
            "text/plain": [
              "<IPython.core.display.Markdown object>"
            ],
            "text/markdown": "> Aqui está uma proposta de cardápio semanal de 1500 calorias, priorizando a praticidade, ingredientes acessíveis e variedade:\n> \n> \n> **Cardápio Semanal:**\n> \n> **📆 Dia 1:**\n> - **Café da Manhã:**\n>     - Total de calorias: 300 kcal;\n>       - Aveia (40g) (150 calorias);\n>       - Leite desnatado (200ml) (70 calorias);\n>       - Banana (1 unidade pequena) (80 calorias);\n> - **Almoço:**\n>     - Total de calorias: 600 kcal;\n>       - Arroz integral cozido (100g) (110 calorias);\n>       - Feijão carioca cozido (120g) (100 calorias);\n>       - Frango grelhado (150g) (250 calorias);\n>       - Salada de alface, tomate e pepino (à vontade) (50 calorias);\n>       - Azeite extra virgem (1 colher de sopa) (90 calorias);\n> - **Jantar:**\n>     - Total de calorias: 600 kcal;\n>       - Sopa de legumes (cenoura, abóbora, chuchu) (300g) (150 calorias);\n>       - Omelete com 2 ovos e espinafre (200 calorias);\n>       - Pão integral (2 fatias) (120 calorias);\n>       - Queijo branco (50g) (130 calorias)\n> \n> **📆 Dia 2:**\n> - **Café da Manhã:**\n>     - Total de calorias: 300 kcal;\n>       - Iogurte natural desnatado (200g) (140 calorias);\n>       - Frutas vermelhas (1 xícara) (80 calorias);\n>       - Granola sem açúcar (30g) (80 calorias);\n> - **Almoço:**\n>     - Total de calorias: 600 kcal;\n>       - Quinoa cozida (100g) (120 calorias);\n>       - Lentilha cozida (150g) (190 calorias);\n>       - Carne magra cozida (120g) (200 calorias);\n>       - Brócolis cozido no vapor (1 xícara) (40 calorias);\n>       - Azeite extra virgem (1 colher de sopa) (90 calorias);\n> - **Jantar:**\n>     - Total de calorias: 600 kcal;\n>       - Salada de grão de bico (150g), tomate, cebola e salsa (250 calorias);\n>       - Atum em conserva light (1 lata) (130 calorias);\n>       - Torradas integrais (3 unidades) (150 calorias);\n>       - Abacate (50g) (70 calorias)\n> \n> **📆 Dia 3:**\n> - **Café da Manhã:**\n>     - Total de calorias: 300 kcal;\n>       - Pão integral (2 fatias) (120 calorias);\n>       - Queijo cottage (50g) (50 calorias);\n>       - Ovo cozido (1 unidade) (70 calorias);\n>       - Tomate (1 unidade) (10 calorias);\n>       - Café sem açúcar (à vontade) (50 calorias);\n> - **Almoço:**\n>     - Total de calorias: 600 kcal;\n>       - Batata doce cozida (150g) (130 calorias);\n>       - Peixe assado (salmão ou tilápia) (150g) (250 calorias);\n>       - Couve refogada (1 xícara) (50 calorias);\n>       - Limão e ervas para temperar (à vontade) (70 calorias);\n>       - Arroz integral cozido (100g) (100 calorias);\n> - **Jantar:**\n>     - Total de calorias: 600 kcal;\n>       - Canja de galinha com legumes (cenoura, abobrinha) (350 calorias);\n>       - Pão francês (1 unidade) (140 calorias);\n>       - Ricota (50g) (110 calorias);\n> \n> **📆 Dia 4:**\n> - **Café da Manhã:**\n>     - Total de calorias: 300 kcal;\n>       - Smoothie de frutas (banana, morango, mamão) com leite vegetal (200ml) (300 calorias)\n> - **Almoço:**\n>     - Total de calorias: 600 kcal;\n>       - Arroz integral (100g) (110 calorias);\n>       - Feijão preto (120g) (100 calorias);\n>       - Carne moída magra refogada com legumes (150g) (300 calorias);\n>       - Salada de folhas verdes (à vontade) (40 calorias);\n>       - Azeite extra virgem (1 colher de sopa) (50 calorias);\n> - **Jantar:**\n>     - Total de calorias: 600 kcal;\n>       - Sopa de ervilha com legumes (350 calorias);\n>       - Torradas integrais (2 unidades) (150 calorias);\n>       - Queijo magro (100 calorias);\n> \n> **📆 Dia 5:**\n> - **Café da Manhã:**\n>     - Total de calorias: 300 kcal;\n>       - Tapioca (2 colheres de sopa) com queijo branco (50g) e chia (1 colher de chá) (300 calorias)\n> - **Almoço:**\n>     - Total de calorias: 600 kcal;\n>       - Cuscuz marroquino (100g) com legumes (abobrinha, cenoura, pimentão) (350 calorias);\n>       - Frango desfiado (100g) (150 calorias);\n>       - Salada (100 calorias);\n> - **Jantar:**\n>     - Total de calorias: 600 kcal;\n>       - Pizza de frigideira integral (1 unidade) com molho de tomate caseiro, queijo e legumes (450 calorias);\n>       - Salada (150 calorias);\n> \n> **📆 Dia 6:**\n> - **Café da Manhã:**\n>     - Total de calorias: 300 kcal;\n>       - Mingau de aveia com leite desnatado, fruta picada (maçã) e canela (300 calorias)\n> - **Almoço:**\n>     - Total de calorias: 600 kcal;\n>       - Escondidinho de batata doce com carne moída magra e legumes (450 calorias);\n>       - Salada (150 calorias);\n> - **Jantar:**\n>     - Total de calorias: 600 kcal;\n>       - Wraps integrais (2 unidades) com frango desfiado, guacamole e salada (500 calorias);\n>       - Frutas (100 calorias);\n> \n> **📆 Dia 7:**\n> - **Café da Manhã:**\n>     - Total de calorias: 300 kcal;\n>       - Omelete com legumes e queijo cottage (300 calorias)\n> - **Almoço:**\n>     - Total de calorias: 600 kcal;\n>       - Macarrão integral com molho de tomate caseiro e almôndegas de carne magra (500 calorias);\n>       - Salada (100 calorias);\n> - **Jantar:**\n>     - Total de calorias: 600 kcal;\n>       - Sopa creme de abóbora com frango desfiado (400 calorias);\n>       - Pão integral com requeijão light (200 calorias);\n> \n> **Observações:**\n> \n> *   **Preparo em Lote:** As sopas, feijão, arroz integral, quinoa, lentilha, carne moída e frango desfiado podem ser preparados em maior quantidade e armazenados na geladeira ou congelador para facilitar o consumo ao longo da semana.\n> *   **Temperos:** Utilize temperos naturais como alho, cebola, ervas frescas, pimenta e azeite extra virgem para dar sabor aos pratos, evitando o uso excessivo de sal.\n> *   **Lanches:** Se sentir fome entre as refeições, opte por frutas, iogurte natural, castanhas ou palitos de legumes com guacamole.\n> *   **Hidratação:** Beba bastante água ao longo do dia (pelo menos 2 litros).\n> *   **Variações:** Sinta-se à vontade para substituir os alimentos por outros equivalentes em termos de valor nutricional e calórico, de acordo com suas preferências e disponibilidade.\n> *   **Consulta Profissional:** Este cardápio é apenas uma sugestão. É fundamental consultar um nutricionista para uma avaliação individualizada e um plano alimentar personalizado.\n> *   **Ingredientes Baratos:** Priorize ingredientes da época, feiras livres e mercados municipais para encontrar melhores preços.\n> \n> Espero que este cardápio seja útil para você alcançar sua meta de 1500 calorias de forma saudável e prática!\n> \n"
          },
          "metadata": {}
        },
        {
          "output_type": "stream",
          "name": "stdout",
          "text": [
            "--------------------------------------------------------------\n",
            "\n",
            "📝 Resultado do Agente 2 (Planejador de compras)\n",
            "\n"
          ]
        },
        {
          "output_type": "display_data",
          "data": {
            "text/plain": [
              "<IPython.core.display.Markdown object>"
            ],
            "text/markdown": "> Com certeza! Aqui está uma lista de compras organizada por categorias, baseada no cardápio semanal fornecido.\n> \n> \n> **Lista de Compras Semanal:**\n> \n> **🍓 Frutas:**\n> \n> *   Banana: 5 unidades pequenas\n> *   Frutas vermelhas: 1 xícara\n> *   Tomate: 1 unidade\n> *   Mamão: Meio unidade\n> *   Morango: A gosto\n> *   Maçã: 1 unidade\n> *   Abacate: 50g\n> \n> **🥦 Legumes:**\n> \n> *   Alface: 1 unidade\n> *   Tomate: 1 unidade\n> *   Pepino: 1 unidade\n> *   Cenoura: 5 unidades (para sopa e canja)\n> *   Abóbora: 2 pedaços pequenos (para sopa e canja)\n> *   Chuchu: 1 unidade\n> *   Brócolis: 1 xícara\n> *   Couve: 1 xícara\n> *   Cebola: 1 unidade\n> *   Salsa: A gosto\n> *   Abobrinha: A gosto\n> *   Pimentão: A gosto\n> *   Ervilhas: A gosto\n> *   Legumes variados para pizza de frigideira e wraps\n> \n> **🥩 Proteínas:**\n> \n> *   Frango: 400g (grelhado e desfiado)\n> *   Ovos: 9 unidades\n> *   Atum em conserva light: 1 lata\n> *   Salmão ou tilápia: 150g\n> *   Carne magra moída: 300g\n> *   Almôndegas de carne magra: A gosto\n> \n> **🌾 Grãos e Carboidratos:**\n> \n> *   Aveia em flocos: 40g\n> *   Arroz integral: 300g\n> *   Quinoa: 100g\n> *   Pão integral: 4 fatias\n> *   Torradas integrais: 5 unidades\n> *   Batata doce: 150g\n> *   Pão francês: 1 unidade\n> *   Tapioca: 2 colheres de sopa\n> *   Cuscuz marroquino: 100g\n> *   Macarrão integral: A gosto\n> \n> **🥛 Laticínios:**\n> \n> *   Leite desnatado: 200ml\n> *   Iogurte natural desnatado: 200g\n> *   Queijo branco: 50g\n> *   Queijo cottage: 100g\n> *   Ricota: 50g\n> *   Queijo magro: 100g\n> *   Requeijão light: A gosto\n> \n> **🌰 Sementes e Oleaginosas:**\n> \n> *   Granola sem açúcar: 30g\n> *   Chia: 1 colher de chá\n> \n> **🥫 Outros:**\n> \n> *   Feijão carioca: 120g\n> *   Lentilha: 150g\n> *   Grão de bico: 150g\n> *   Feijão preto: 120g\n> *   Azeite extra virgem\n> *   Limão\n> *   Ervas frescas\n> *   Caldo de galinha (para a canja)\n> *   Molho de tomate caseiro\n> *   Guacamole\n> *   Café sem açúcar\n> \n> **Observações:**\n> \n> *   **Preparo em Lote:** Como mencionado no cardápio, considere comprar em maior quantidade itens como feijão, arroz integral, quinoa, lentilha, carne moída e frango para otimizar o tempo de preparo ao longo da semana.\n> *   **Embalagens Maiores:** Para itens como aveia, arroz integral e feijão, embalagens maiores costumam ser mais econômicas.\n> *   **Substituições:** Sinta-se à vontade para substituir os ingredientes de acordo com suas preferências e o que estiver mais fresco e acessível no mercado.\n> *   **Aproveitamento:** Utilize talos e folhas de legumes para preparar caldos e sopas, evitando o desperdício.\n"
          },
          "metadata": {}
        },
        {
          "output_type": "stream",
          "name": "stdout",
          "text": [
            "--------------------------------------------------------------\n",
            "\n",
            "📝 Resultado do Agente 3 (Cozinheiro)\n",
            "\n"
          ]
        },
        {
          "output_type": "display_data",
          "data": {
            "text/plain": [
              "<IPython.core.display.Markdown object>"
            ],
            "text/markdown": "> Ok, aqui está um cardápio semanal de 1500 calorias com receitas práticas e saudáveis, além de dicas para facilitar o seu dia a dia.\n> \n> \n> **Receitas Semanais:**\n> \n> **Dia 1:**\n> \n> - **🍽️ Café da Manhã: Aveia com Leite e Banana**\n>     - Receita original: [https://www.youtube.com/watch?v=WzeZrhiBTaA](https://www.youtube.com/watch?v=WzeZrhiBTaA)\n>     - **Ingredientes:**\n>         - Aveia em flocos: 40g\n>         - Leite desnatado: 200ml\n>         - Banana pequena: 1 unidade\n>     - **Modo de Preparo:**\n>         1.  Em uma tigela, misture a aveia e o leite.\n>         2.  Amasse a banana e adicione à mistura.\n>         3.  Leve ao microondas por 2-3 minutos ou cozinhe em fogo baixo até engrossar.\n> \n> - **🍽️ Almoço: Arroz Integral com Feijão e Frango Grelhado**\n>     - Receita original: [https://www.receitasnestle.com.br/receitas/marmita-de-frango-grelhado-com-arroz-integral-feijao-e-legumes-ao-forno](https://www.receitasnestle.com.br/receitas/marmita-de-frango-grelhado-com-arroz-integral-feijao-e-legumes-ao-forno)\n>     - **Ingredientes:**\n>         - Arroz integral cozido: 100g\n>         - Feijão carioca cozido: 120g\n>         - Peito de frango: 150g\n>         - Alface, tomate e pepino: a gosto\n>         - Azeite extra virgem: 1 colher de sopa\n>     - **Modo de Preparo:**\n>         1.  Tempere o frango com sal, pimenta e limão.\n>         2.  Grelhe o frango até dourar.\n>         3.  Sirva o arroz e o feijão com o frango grelhado e a salada.\n> \n> - **🍽️ Jantar: Sopa de Legumes com Omelete e Queijo**\n>     - Receita original: Não especificada, receita adaptada.\n>     - **Ingredientes:**\n>         - Cenoura, abóbora, chuchu picados: 300g\n>         - Ovos: 2 unidades\n>         - Espinafre picado: a gosto\n>         - Pão integral: 2 fatias\n>         - Queijo branco: 50g\n>     - **Modo de Preparo:**\n>         1.  Cozinhe os legumes em água com sal até ficarem macios.\n>         2.  Bata os ovos com espinafre e faça um omelete.\n>         3.  Sirva a sopa com o omelete, pão integral e queijo branco.\n> \n> **Dia 2:**\n> \n> - **🍽️ Café da Manhã: Iogurte com Frutas Vermelhas e Granola**\n>     - Receita original: Não especificada, receita adaptada.\n>     - **Ingredientes:**\n>         - Iogurte natural desnatado: 200g\n>         - Frutas vermelhas (morango, amora, framboesa): 1 xícara\n>         - Granola sem açúcar: 30g\n>     - **Modo de Preparo:**\n>         1.  Misture todos os ingredientes em uma tigela e consuma.\n> \n> - **🍽️ Almoço: Quinoa com Lentilha e Carne Magra**\n>     - Receita original: Não especificada, receita adaptada.\n>     - **Ingredientes:**\n>         - Quinoa cozida: 100g\n>         - Lentilha cozida: 150g\n>         - Carne magra cozida (patinho, músculo): 120g\n>         - Brócolis cozido no vapor: 1 xícara\n>         - Azeite extra virgem: 1 colher de sopa\n>     - **Modo de Preparo:**\n>         1.  Cozinhe a quinoa e a lentilha separadamente.\n>         2.  Refogue a carne magra.\n>         3.  Sirva a quinoa e a lentilha com a carne e o brócolis.\n> \n> - **🍽️ Jantar: Salada de Grão de Bico com Atum e Abacate**\n>     - Receita original: [https://www.nestle.com.br/receitas/salada-de-grao-de-bico-com-atum](https://www.nestle.com.br/receitas/salada-de-grao-de-bico-com-atum)\n>     - **Ingredientes:**\n>         - Grão de bico cozido: 150g\n>         - Tomate, cebola e salsa picados: a gosto\n>         - Atum em conserva light: 1 lata\n>         - Torradas integrais: 3 unidades\n>         - Abacate: 50g\n>     - **Modo de Preparo:**\n>         1.  Misture o grão de bico, tomate, cebola e salsa.\n>         2.  Adicione o atum.\n>         3.  Sirva a salada com torradas e abacate.\n> \n> **Dia 3:**\n> \n> - **🍽️ Café da Manhã: Pão Integral com Queijo Cottage e Ovo Cozido**\n>     - Receita original: Não especificada, receita adaptada.\n>     - **Ingredientes:**\n>         - Pão integral: 2 fatias\n>         - Queijo cottage: 50g\n>         - Ovo cozido: 1 unidade\n>         - Tomate: 1 unidade\n>         - Café sem açúcar: à vontade\n>     - **Modo de Preparo:**\n>         1.  Prepare o café.\n>         2.  Cozinhe o ovo.\n>         3.  Monte o sanduíche com pão, queijo cottage, ovo e tomate.\n> \n> - **🍽️ Almoço: Peixe Assado com Batata Doce e Couve**\n>     - Receita original: Não especificada, receita adaptada.\n>     - **Ingredientes:**\n>         - Batata doce cozida: 150g\n>         - Peixe assado (salmão ou tilápia): 150g\n>         - Couve refogada: 1 xícara\n>         - Limão e ervas: a gosto\n>         - Arroz integral cozido: 100g\n>     - **Modo de Preparo:**\n>         1.  Asse o peixe com limão e ervas.\n>         2.  Cozinhe a batata doce.\n>         3.  Refogue a couve.\n>         4.  Sirva o peixe com batata doce, couve e arroz integral.\n> \n> - **🍽️ Jantar: Canja de Galinha com Legumes**\n>     - Receita original: Não especificada, receita adaptada.\n>     - **Ingredientes:**\n>         - Canja de galinha com legumes (cenoura, abobrinha): 350 calorias\n>         - Pão francês: 1 unidade\n>         - Ricota: 50g\n>     - **Modo de Preparo:**\n>         1.  Prepare a canja com os legumes.\n>         2.  Sirva a canja com pão e ricota.\n> \n> **Dia 4:**\n> \n> - **🍽️ Café da Manhã: Smoothie de Frutas com Leite Vegetal**\n>     - Receita original: Não especificada, receita adaptada.\n>     - **Ingredientes:**\n>         - Banana, morango, mamão: a gosto\n>         - Leite vegetal (amêndoa, arroz, soja): 200ml\n>     - **Modo de Preparo:**\n>         1.  Bata todas as frutas com o leite vegetal no liquidificador.\n> \n> - **🍽️ Almoço: Arroz Integral com Feijão Preto e Carne Moída Magra com Legumes**\n>     - Receita original: [https://www.tiktok.com/@panelinha.de.sabores/video/7344405368392924422](https://www.tiktok.com/@panelinha.de.sabores/video/7344405368392924422)\n>     - **Ingredientes:**\n>         - Arroz integral: 100g\n>         - Feijão preto: 120g\n>         - Carne moída magra refogada com legumes: 150g\n>         - Salada de folhas verdes: à vontade\n>         - Azeite extra virgem: 1 colher de sopa\n>     - **Modo de Preparo:**\n>         1.  Prepare o arroz e o feijão.\n>         2.  Refogue a carne moída com os legumes.\n>         3.  Sirva o arroz, o feijão e a carne moída com salada.\n> \n> - **🍽️ Jantar: Sopa de Ervilha com Legumes**\n>     - Receita original: Não especificada, receita adaptada.\n>     - **Ingredientes:**\n>         - Sopa de ervilha com legumes: 350 calorias\n>         - Torradas integrais: 2 unidades\n>         - Queijo magro: 100 calorias\n>     - **Modo de Preparo:**\n>         1.  Prepare a sopa de ervilha com legumes.\n>         2.  Sirva a sopa com torradas e queijo.\n> \n> **Dia 5:**\n> \n> - **🍽️ Café da Manhã: Tapioca com Queijo Branco e Chia**\n>     - Receita original: [https://www.receiteria.com.br/receita/tapioca-com-chia-e-queijo/](https://www.receiteria.com.br/receita/tapioca-com-chia-e-queijo/)\n>     - **Ingredientes:**\n>         - Tapioca: 2 colheres de sopa\n>         - Queijo branco: 50g\n>         - Chia: 1 colher de chá\n>     - **Modo de Preparo:**\n>         1.  Misture a tapioca com a chia.\n>         2.  Espalhe em uma frigideira e aqueça.\n>         3.  Adicione o queijo e dobre a tapioca.\n> \n> - **🍽️ Almoço: Cuscuz Marroquino com Legumes e Frango Desfiado**\n>     - Receita original: [https://www.youtube.com/watch?v=v67kMy-GDu8](https://www.youtube.com/watch?v=v67kMy-GDu8)\n>     - **Ingredientes:**\n>         - Cuscuz marroquino: 100g\n>         - Legumes (abobrinha, cenoura, pimentão): a gosto\n>         - Frango desfiado: 100g\n>         - Salada: 100 calorias\n>     - **Modo de Preparo:**\n>         1.  Prepare o cuscuz conforme as instruções.\n>         2.  Refogue os legumes.\n>         3.  Misture o cuscuz com os legumes e o frango.\n>         4.  Sirva com salada.\n> \n> - **🍽️ Jantar: Pizza de Frigideira Integral com Legumes**\n>     - Receita original: [https://www.youtube.com/watch?v=afwI9hnImJE](https://www.youtube.com/watch?v=afwI9hnImJE)\n>     - **Ingredientes:**\n>         - Farinha de trigo integral: 50g\n>         - Água morna: 1/4 de xícara\n>         - Sal: 1 pitada\n>     - **Modo de Preparo:**\n>         1. Junte todos ingredientes e misture\n>         2. Em uma frigideira adicione a massa em fogo baixo até dourar dos dois lados\n>         3. Adicione molho de tomate caseiro, queijo e legumes (450 calorias);\n>         4.  Sirva com salada (150 calorias);\n> \n> **Dia 6:**\n> \n> - **🍽️ Café da Manhã: Mingau de Aveia com Maçã e Canela**\n>     - Receita original: [https://www.tedi.com.br/receitas/mingau-de-aveia-com-maca-e-canela](https://www.tedi.com.br/receitas/mingau-de-aveia-com-maca-e-canela)\n>     - **Ingredientes:**\n>         - Aveia: 3 colheres de sopa\n>         - Leite desnatado: 200ml\n>         - Maçã picada: 1 unidade\n>         - Canela: a gosto\n>     - **Modo de Preparo:**\n>         1.  Cozinhe a aveia com o leite até engrossar.\n>         2.  Adicione a maçã e a canela.\n> \n> - **🍽️ Almoço: Escondidinho de Batata Doce com Carne Moída Magra e Legumes**\n>     - Receita original: [https://www.knorr.com.br/receitas/escondidinho-de-batata-doce-com-carne-moida.html](https://www.knorr.com.br/receitas/escondidinho-de-batata-doce-com-carne-moida.html)\n>     - **Ingredientes:**\n>         - Batata doce cozida e amassada: 150g\n>         - Carne moída magra refogada com legumes: 450 calorias\n>         - Salada: 150 calorias\n>     - **Modo de Preparo:**\n>         1.  Faça um purê de batata doce.\n>         2.  Refogue a carne moída com legumes.\n>         3.  Monte o escondidinho com purê e carne moída.\n>         4.  Leve ao forno para gratinar.\n> \n> - **🍽️ Jantar: Wraps Integrais com Frango Desfiado, Guacamole e Salada**\n>     - Receita original: Não especificada, receita adaptada.\n>     - **Ingredientes:**\n>         - Wraps integrais: 2 unidades\n>         - Frango desfiado: a gosto\n>         - Guacamole: a gosto\n>         - Salada: a gosto\n>         - Frutas: 100 calorias\n>     - **Modo de Preparo:**\n>         1.  Recheie os wraps com frango, guacamole e salada.\n>         2.  Sirva com frutas.\n> \n> **Dia 7:**\n> \n> - **🍽️ Café da Manhã: Omelete com Legumes e Queijo Cottage**\n>     - Receita original: Não especificada, receita adaptada.\n>     - **Ingredientes:**\n>         - Ovos: 2 unidades\n>         - Legumes picados (tomate, cebola, pimentão): a gosto\n>         - Queijo cottage: a gosto\n>     - **Modo de Preparo:**\n>         1.  Bata os ovos com os legumes e o queijo cottage.\n>         2.  Faça o omelete em uma frigideira.\n> \n> - **🍽️ Almoço: Macarrão Integral com Molho de Tomate Caseiro e Almôndegas**\n>     - Receita original: Não especificada, receita adaptada.\n>     - **Ingredientes:**\n>         - Macarrão integral cozido: a gosto\n>         - Molho de tomate caseiro: a gosto\n>         - Almôndegas de carne magra: 500 calorias\n>         - Salada: 100 calorias\n>     - **Modo de Preparo:**\n>         1.  Prepare o macarrão integral.\n>         2.  Prepare o molho de tomate e as almôndegas.\n>         3.  Sirva o macarrão com molho e almôndegas.\n>         4.  Acompanhe com salada.\n> \n> - **🍽️ Jantar: Sopa Creme de Abóbora com Frango Desfiado**\n>     - Receita original: [https://www.band.uol.com.br/receitas/sopa-de-abobora-com-frango-desfiado-16854537](https://www.band.uol.com.br/receitas/sopa-de-abobora-com-frango-desfiado-16854537)\n>     - **Ingredientes:**\n>         - Abóbora cozida e amassada: a gosto\n>         - Frango desfiado: a gosto\n>         - Tempero a gosto\n>         - Pão integral: a gosto\n>         - Requeijão light: a gosto\n>     - **Modo de Preparo:**\n>         1.  Refogue a abóbora e junte o frango desfiado e o creme de leite.\n>         2.  Sirva com pão integral com requeijão light.\n> \n> **Dicas:**\n> \n> *   **Substituições:** Sinta-se à vontade para substituir os ingredientes por outros equivalentes em termos de valor nutricional e calórico, de acordo com suas preferências e disponibilidade. Por exemplo, troque o frango por peixe ou tofu, o arroz integral por quinoa, etc.\n> *   **Preparo em Lote:** Aproveite para preparar grandes quantidades de arroz integral, feijão, lentilha, quinoa, frango desfiado e carne moída no fim de semana. Isso economiza tempo durante a semana.\n> *   **Temperos Naturais:** Use e abuse de temperos naturais como alho, cebola, ervas frescas, pimenta e azeite extra virgem para dar sabor aos pratos, evitando o uso excessivo de sal.\n> *   **Lanches:** Para os lanches entre as refeições, tenha sempre à mão opções saudáveis como frutas, iogurte natural, castanhas, palitos de legumes com guacamole ou ovo cozido.\n> *   **Consulta Profissional:** É fundamental consultar um nutricionista para uma avaliação individualizada e um plano alimentar personalizado.\n> \n"
          },
          "metadata": {}
        },
        {
          "output_type": "stream",
          "name": "stdout",
          "text": [
            "--------------------------------------------------------------\n"
          ]
        }
      ]
    },
    {
      "cell_type": "code",
      "source": [],
      "metadata": {
        "id": "aiZEIhSLujoO"
      },
      "execution_count": null,
      "outputs": []
    }
  ]
}